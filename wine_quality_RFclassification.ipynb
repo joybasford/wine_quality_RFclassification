{
 "cells": [
  {
   "cell_type": "code",
   "execution_count": null,
   "metadata": {
    "collapsed": true
   },
   "outputs": [],
   "source": [
    "import numpy as np\n",
    "import pandas as pd\n",
    "import matplotlib.pyplot as plt\n",
    "from sklearn.ensemble import RandomForestClassifier\n",
    "from sklearn.cross_validation import cross_val_score\n",
    "from sklearn.model_selection import cross_validate"
   ]
  },
  {
   "cell_type": "code",
   "execution_count": null,
   "metadata": {
    "collapsed": true
   },
   "outputs": [],
   "source": [
    "# import the data using pandas read_csv\n",
    "white = pd.read_csv('winequality-white.csv',sep=';',quotechar='\"')\n",
    "red = pd.read_csv('winequality-red.csv',sep=';',quotechar='\"')"
   ]
  },
  {
   "cell_type": "code",
   "execution_count": null,
   "metadata": {
    "collapsed": true
   },
   "outputs": [],
   "source": [
    "# create dataframe for the chemical characteristics, which I'll label 'x'\n",
    "# convert the dataframe into a matrix\n",
    "x_df = white.iloc[:,:-1]\n",
    "x = x_df.as_matrix()"
   ]
  },
  {
   "cell_type": "code",
   "execution_count": null,
   "metadata": {
    "collapsed": true
   },
   "outputs": [],
   "source": [
    "# create dataframe for the wine quality, which I'll label 'y'\n",
    "# convert the dataframe into a numpy array, for sklearn to use\n",
    "y_df = white[\"quality\"].values\n",
    "y = np.array([1 if i>=7 else 0 for i in y_df])"
   ]
  },
  {
   "cell_type": "code",
   "execution_count": null,
   "metadata": {
    "collapsed": true
   },
   "outputs": [],
   "source": [
    "# set aside an empty list in which to keep the importances scores\n",
    "scores = []"
   ]
  },
  {
   "cell_type": "code",
   "execution_count": null,
   "metadata": {
    "collapsed": true
   },
   "outputs": [],
   "source": [
    "# create Random Forest Classifier model from sklean.ensemble\n",
    "# fit the model to your x and y data\n",
    "clf = RandomForestClassifier(n_estimators=11)\n",
    "clf.fit(x,y)"
   ]
  },
  {
   "cell_type": "code",
   "execution_count": null,
   "metadata": {
    "collapsed": true
   },
   "outputs": [],
   "source": [
    "# after cross-validating the model 10 times using cross_val_score\n",
    "# append the classification scores to the scores list\n",
    "scores.append(cross_val_score(clf, x, y, cv=10))"
   ]
  },
  {
   "cell_type": "code",
   "execution_count": null,
   "metadata": {
    "collapsed": true
   },
   "outputs": [],
   "source": [
    "# print the classification scores to see how well Random Forest performed\n",
    "print(cross_validate(clf,x,y,cv=10))\n",
    "# looking at the train scores vs the test scores, it seems we achieved\n",
    "# between 76.2% and 85.5% accuracy in the test, whereas training scores\n",
    "# were a lot higher, between 99.2% to 99.7%."
   ]
  },
  {
   "cell_type": "code",
   "execution_count": null,
   "metadata": {
    "collapsed": true
   },
   "outputs": [],
   "source": [
    "# now, let's compute the feature importances from the model\n",
    "imp = clf.feature_importances_\n",
    "names = x_df.columns"
   ]
  },
  {
   "cell_type": "code",
   "execution_count": null,
   "metadata": {
    "collapsed": true
   },
   "outputs": [],
   "source": [
    "# plot the RF variable importances in a horizontal bar chart\n",
    "imp, names = zip(*sorted(zip(imp,names)))\n",
    "plt.barh(range(len(names)), imp, align = 'center')\n",
    "plt.yticks(range(len(names)), names)"
   ]
  }
 ],
 "metadata": {
  "kernelspec": {
   "display_name": "Python 3",
   "language": "python",
   "name": "python3"
  },
  "language_info": {
   "codemirror_mode": {
    "name": "ipython",
    "version": 3
   },
   "file_extension": ".py",
   "mimetype": "text/x-python",
   "name": "python",
   "nbconvert_exporter": "python",
   "pygments_lexer": "ipython3",
   "version": "3.6.2"
  }
 },
 "nbformat": 4,
 "nbformat_minor": 2
}
